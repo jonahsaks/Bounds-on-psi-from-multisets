{
 "cells": [
  {
   "cell_type": "code",
   "execution_count": 5,
   "metadata": {},
   "outputs": [],
   "source": [
    "from fractions import Fraction\n",
    "import numpy as np\n",
    "import math\n",
    "import matplotlib.pyplot as plt\n",
    "from math import gcd"
   ]
  },
  {
   "cell_type": "code",
   "execution_count": 6,
   "metadata": {},
   "outputs": [],
   "source": [
    "##define sylvesters sequence by recurrence relation:\n",
    "def sylv(n):\n",
    "    if(n == 0):\n",
    "        return 2\n",
    "    else:\n",
    "        k = sylv(n-1)\n",
    "        return k*k - k + 1"
   ]
  },
  {
   "cell_type": "code",
   "execution_count": 7,
   "metadata": {},
   "outputs": [],
   "source": [
    "def sylv_set(n):\n",
    "    if n == 1:\n",
    "        print('undefined')\n",
    "    output = [1]\n",
    "    for i in range(0, n-2):\n",
    "        output.append(-1 * sylv(i))\n",
    "    output.append(-1 * (sylv(n-2)) + 1)\n",
    "    return output"
   ]
  },
  {
   "cell_type": "code",
   "execution_count": 8,
   "metadata": {},
   "outputs": [
    {
     "data": {
      "text/plain": [
       "[1, -2, -3, -5, 6, -7, 10, -11, -13, 14, 15, -17, -455, 595, -715]"
      ]
     },
     "execution_count": 8,
     "metadata": {},
     "output_type": "execute_result"
    }
   ],
   "source": [
    "#some particularly interesting sets:\n",
    "\n",
    "\n",
    "#L = [1,-2,-3, -5, 30]                       #upper bound of 1.10555042\n",
    "#L = sylv_set(3)\n",
    "#L = sylv_set(4) \n",
    "#L = sylv_set(5)\n",
    "#L = sylv_set(6)                            #upper bound of 1.08298647\n",
    "#L = sylv_set(7)\n",
    "#L = [1, -2, -3, -7, -47, -395, -779730]    #upper bound of 1.08783809\n",
    "#L = [1, -2, -3, -11, -23, -31, -47058]\n",
    "#L = [1, -2, -3, -5, 6, 10, -11, -19, -36, -45, -57, -76, -110]             #on A. walker's blog\n",
    "L = [1, -2, -3, -5, 6, -7, 10, -11, -13, 14, 15, -17, -455, 595, -715]     #on A. walker's blog\n",
    "L"
   ]
  },
  {
   "cell_type": "code",
   "execution_count": 9,
   "metadata": {},
   "outputs": [],
   "source": [
    "#check if L is balanced:\n",
    "sum = 0\n",
    "for i in range(0, len(L)):\n",
    "    sum += Fraction(1,L[i])\n",
    "if sum != 0:\n",
    "    print(\"Multiset is not balanced\")\n",
    "    \n",
    "##lcm\n",
    "def lcm(L):  \n",
    "    lcm = math.fabs(L[0])\n",
    "    for i in L[1:]:\n",
    "          lcm = lcm*i/gcd(int(lcm), i)\n",
    "    return int(math.fabs(lcm))"
   ]
  },
  {
   "cell_type": "code",
   "execution_count": 10,
   "metadata": {},
   "outputs": [],
   "source": [
    "def chi(t, L):\n",
    "    sum = 0\n",
    "    for i in range(0, len(L)):\n",
    "        floor = math.floor(t/math.fabs(L[i]))\n",
    "        sum = sum +  (np.sign(L[i]) * floor)\n",
    "    return sum"
   ]
  },
  {
   "cell_type": "code",
   "execution_count": 11,
   "metadata": {},
   "outputs": [
    {
     "data": {
      "image/png": "[encoded data removed]",
      "text/plain": [
       "<Figure size 432x288 with 1 Axes>"
      ]
     },
     "metadata": {},
     "output_type": "display_data"
    }
   ],
   "source": [
    "steps = 1000\n",
    "t = np.linspace(1, lcm(L)+1, steps)\n",
    "plot = []\n",
    "for i in range(0,steps):\n",
    "    plot.append(chi(t[i], L))\n",
    "    \n",
    "plt.plot(t, plot)\n",
    "plt.title('Chi');\n",
    "plt.xlabel('t');\n",
    "plt.ylabel('Chi(t,L)');"
   ]
  },
  {
   "cell_type": "code",
   "execution_count": 12,
   "metadata": {},
   "outputs": [],
   "source": [
    "##find min and max of chi on L for t > 0\n",
    "current_min = chi(1,L)\n",
    "current_max = chi(1,L)\n",
    "for i in range(1, lcm(L)+1):\n",
    "    if chi(i, L) < current_min:\n",
    "        current_min = chi(i,L)\n",
    "        i_min = i\n",
    "    if chi(i, L) > current_max:\n",
    "        current_max = chi(i,L)\n",
    "        i_max = i\n",
    "m = current_min\n",
    "M = current_max"
   ]
  },
  {
   "cell_type": "code",
   "execution_count": 13,
   "metadata": {},
   "outputs": [
    {
     "data": {
      "text/plain": [
       "-2"
      ]
     },
     "execution_count": 13,
     "metadata": {},
     "output_type": "execute_result"
    }
   ],
   "source": [
    "m"
   ]
  },
  {
   "cell_type": "code",
   "execution_count": 14,
   "metadata": {},
   "outputs": [
    {
     "data": {
      "text/plain": [
       "5"
      ]
     },
     "execution_count": 14,
     "metadata": {},
     "output_type": "execute_result"
    }
   ],
   "source": [
    "M"
   ]
  },
  {
   "cell_type": "code",
   "execution_count": 15,
   "metadata": {},
   "outputs": [],
   "source": [
    "##create set of j's\n",
    "J_1=[]\n",
    "for i in range(0, int(math.fabs(m)) + 1):\n",
    "    J_1.append(i)\n",
    "if J_1 == []:\n",
    "    J_1 = [0]\n",
    "\n",
    "J_2 = []\n",
    "for i in range(0, M + 1):\n",
    "    J_2.append(i)\n",
    "if J_2 == []:\n",
    "    J_2 = [0]"
   ]
  },
  {
   "cell_type": "code",
   "execution_count": 16,
   "metadata": {},
   "outputs": [
    {
     "data": {
      "text/plain": [
       "[0, 1, 2]"
      ]
     },
     "execution_count": 16,
     "metadata": {},
     "output_type": "execute_result"
    }
   ],
   "source": [
    "J_1"
   ]
  },
  {
   "cell_type": "code",
   "execution_count": 17,
   "metadata": {},
   "outputs": [
    {
     "data": {
      "text/plain": [
       "[0, 1, 2, 3, 4, 5]"
      ]
     },
     "execution_count": 17,
     "metadata": {},
     "output_type": "execute_result"
    }
   ],
   "source": [
    "J_2"
   ]
  },
  {
   "cell_type": "code",
   "execution_count": 18,
   "metadata": {},
   "outputs": [],
   "source": [
    "n_j = []\n",
    "for j in range(0, len(J_1)):\n",
    "    n_j.append(0)\n",
    "rho_j = []\n",
    "for j in range(0, len(J_2)):\n",
    "    rho_j.append(0)"
   ]
  },
  {
   "cell_type": "code",
   "execution_count": 19,
   "metadata": {},
   "outputs": [],
   "source": [
    "for j in range(0, len(J_1)):\n",
    "\n",
    "    for i in range(1,lcm(L)+1):\n",
    "        if chi(i,L) <= -1 * j:\n",
    "            n_j[j] = i\n",
    "            break\n",
    "    \n",
    "for j in range(0, len(J_2)):\n",
    "    temp = []\n",
    "    for i in range(1,lcm(L)+1):\n",
    "        if chi(i,L) >= j:\n",
    "            rho_j[j] = i\n",
    "            break"
   ]
  },
  {
   "cell_type": "code",
   "execution_count": 20,
   "metadata": {},
   "outputs": [
    {
     "data": {
      "text/plain": [
       "[22, 936, 2278]"
      ]
     },
     "execution_count": 20,
     "metadata": {},
     "output_type": "execute_result"
    }
   ],
   "source": [
    "##for sylv_set, appears to always be the abs value of largest element of set\n",
    "n_j "
   ]
  },
  {
   "cell_type": "code",
   "execution_count": 21,
   "metadata": {},
   "outputs": [
    {
     "data": {
      "text/plain": [
       "[1, 1, 19, 31, 271, 4861]"
      ]
     },
     "execution_count": 21,
     "metadata": {},
     "output_type": "execute_result"
    }
   ],
   "source": [
    "rho_j"
   ]
  },
  {
   "cell_type": "code",
   "execution_count": 22,
   "metadata": {},
   "outputs": [],
   "source": [
    "##define h\n",
    "h = 0\n",
    "for i in range(0, len(n_j)):\n",
    "    h += 1 / (n_j[i])"
   ]
  },
  {
   "cell_type": "code",
   "execution_count": 23,
   "metadata": {},
   "outputs": [],
   "source": [
    "H = 0\n",
    "for i in range(1, len(rho_j)):\n",
    "    H += 1 / (rho_j[i])"
   ]
  },
  {
   "cell_type": "code",
   "execution_count": 24,
   "metadata": {},
   "outputs": [],
   "source": [
    "def alpha(L):\n",
    "    sum = 0\n",
    "    for i in range(0, len(L)):\n",
    "        sum += (math.log(math.fabs(L[i])) / L[i])\n",
    "    return sum * -1"
   ]
  },
  {
   "cell_type": "code",
   "execution_count": 25,
   "metadata": {},
   "outputs": [
    {
     "data": {
      "text/plain": [
       "1.0582856940189593"
      ]
     },
     "execution_count": 25,
     "metadata": {},
     "output_type": "execute_result"
    }
   ],
   "source": [
    "##upperbound\n",
    "if h >= 1:\n",
    "    print(\"h does not meet requirements\")\n",
    "alpha(L) / (1-h)"
   ]
  },
  {
   "cell_type": "code",
   "execution_count": 26,
   "metadata": {},
   "outputs": [
    {
     "data": {
      "text/plain": [
       "0.926341025899119"
      ]
     },
     "execution_count": 26,
     "metadata": {},
     "output_type": "execute_result"
    }
   ],
   "source": [
    "##lowerbound\n",
    "if rho_j[1] != 1:\n",
    "    print(\"rho does not meet requirements\")\n",
    "alpha(L) / H"
   ]
  },
  {
   "cell_type": "code",
   "execution_count": 27,
   "metadata": {},
   "outputs": [],
   "source": [
    "##upper bound seems to converge to 1.08238 for large sylv_sets, assuming assumptions above are correct"
   ]
  },
  {
   "cell_type": "code",
   "execution_count": null,
   "metadata": {},
   "outputs": [],
   "source": []
  },
  {
   "cell_type": "code",
   "execution_count": 28,
   "metadata": {},
   "outputs": [],
   "source": [
    "##assuming some of the assumptions we made about how sylv_Set behaves above, we can make the following claim:\n",
    "##the upper bound for any sylv_set takes the form:\n",
    "## 1 / (1 - |last element in set|) * sum over all elements of (log(l)) / l\n",
    "\n",
    "def attempt(L):\n",
    "    last_element = math.fabs(L[-1])\n",
    "    h = 1 / last_element\n",
    "    fraction = 1 / (1-h)\n",
    "    return fraction * alpha(L)"
   ]
  },
  {
   "cell_type": "code",
   "execution_count": 29,
   "metadata": {},
   "outputs": [
    {
     "data": {
      "text/plain": [
       "1.0823894232186946"
      ]
     },
     "execution_count": 29,
     "metadata": {},
     "output_type": "execute_result"
    }
   ],
   "source": [
    "attempt(sylv_set(8))"
   ]
  },
  {
   "cell_type": "code",
   "execution_count": 30,
   "metadata": {},
   "outputs": [
    {
     "data": {
      "text/plain": [
       "1.0823894232185929"
      ]
     },
     "execution_count": 30,
     "metadata": {},
     "output_type": "execute_result"
    }
   ],
   "source": [
    "attempt(sylv_set(10))"
   ]
  },
  {
   "cell_type": "code",
   "execution_count": 31,
   "metadata": {},
   "outputs": [
    {
     "data": {
      "text/plain": [
       "1.0823894232185929"
      ]
     },
     "execution_count": 31,
     "metadata": {},
     "output_type": "execute_result"
    }
   ],
   "source": [
    "attempt(sylv_set(12))"
   ]
  },
  {
   "cell_type": "code",
   "execution_count": null,
   "metadata": {},
   "outputs": [],
   "source": []
  }
 ],
 "metadata": {
  "kernelspec": {
   "display_name": "Python 3",
   "language": "python",
   "name": "python3"
  },
  "language_info": {
   "codemirror_mode": {
    "name": "ipython",
    "version": 3
   },
   "file_extension": ".py",
   "mimetype": "text/x-python",
   "name": "python",
   "nbconvert_exporter": "python",
   "pygments_lexer": "ipython3",
   "version": "3.6.5"
  }
 },
 "nbformat": 4,
 "nbformat_minor": 2
}
